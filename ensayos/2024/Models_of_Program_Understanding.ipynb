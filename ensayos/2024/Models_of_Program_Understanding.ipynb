{
  "nbformat": 4,
  "nbformat_minor": 0,
  "metadata": {
    "colab": {
      "provenance": [],
      "authorship_tag": "ABX9TyP+PB1j3dnt/jZT9q0gKThs",
      "include_colab_link": true
    },
    "kernelspec": {
      "name": "python3",
      "display_name": "Python 3"
    },
    "language_info": {
      "name": "python"
    }
  },
  "cells": [
    {
      "cell_type": "markdown",
      "metadata": {
        "id": "view-in-github",
        "colab_type": "text"
      },
      "source": [
        "<a href=\"https://colab.research.google.com/github/bremontix/bremontix/blob/main/ensayos/2024/Models_of_Program_Understanding.ipynb\" target=\"_parent\"><img src=\"https://colab.research.google.com/assets/colab-badge.svg\" alt=\"Open In Colab\"/></a>"
      ]
    },
    {
      "cell_type": "markdown",
      "source": [
        "# Models of Program Understanding"
      ],
      "metadata": {
        "id": "Vxl7QZAo1oiD"
      }
    },
    {
      "cell_type": "markdown",
      "source": [
        "> A theory that explains why humans x, y in their understanding of program p.\n",
        ">\n",
        "## Uderstanding\n",
        "\n",
        "Understanding is a cognitive process involving acquiring knowledge or comprehending a particular concept or idea. It typically consists of interpreting information, connecting different pieces of information, and forming a mental model of the concept or idea.\n",
        "\n",
        "To achieve understanding, individuals may engage in various cognitive processes, including analyzing, synthesizing, and evaluating information. They may also seek additional resources or discuss with others to deepen their understanding and gain new insights.\n"
      ],
      "metadata": {
        "id": "QTLjZe_D002n"
      }
    },
    {
      "cell_type": "markdown",
      "source": [
        "## A Model of Understanding\n",
        "\n",
        "Make a test to verify the following:\n",
        "\n",
        "- Compression,\n",
        "- Prediction\n",
        "    - Generalization"
      ],
      "metadata": {
        "id": "gaT6Dvqq09_q"
      }
    },
    {
      "cell_type": "markdown",
      "source": [
        "## Factors that Explains Understanding\n",
        "\n",
        "- Modularity\n",
        "    - Coupling\n",
        "    - Cohesion\n",
        "- Semantic Reference Frame\n",
        "    - Familiarity\n",
        "    - Conventions\n",
        "    - Naming\n",
        "- Documentation"
      ],
      "metadata": {
        "id": "ifoBW-YJ07Ya"
      }
    },
    {
      "cell_type": "markdown",
      "source": [
        "## Application to Program Understanding\n",
        "\n",
        "1. Make some measurements and gather the following data:\n",
        "\n",
        "| Program | Factors | Understanding |\n",
        "| --- | --- | --- |\n",
        "| P1 | v11 … | R1 |\n",
        "| P2 | v21 … | R2 |\n",
        "| P3 | v31 … | R3 |\n",
        "| … | … | … |\n",
        "| Pn | vn1 … | Rn |\n",
        "1. Make a model of the data."
      ],
      "metadata": {
        "id": "Ymu6IoEr05aS"
      }
    },
    {
      "cell_type": "markdown",
      "source": [
        "## References\n",
        "\n",
        "[Program Understanding: Models and Experiments](https://www.sciencedirect.com/science/article/abs/pii/S0065245808605434)"
      ],
      "metadata": {
        "id": "dYkleoPN03gE"
      }
    }
  ]
}
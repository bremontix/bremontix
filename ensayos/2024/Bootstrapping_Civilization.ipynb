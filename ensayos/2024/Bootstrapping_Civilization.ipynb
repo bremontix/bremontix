{
  "cells": [
    {
      "cell_type": "markdown",
      "metadata": {
        "colab_type": "text",
        "id": "view-in-github"
      },
      "source": [
        "<a href=\"https://colab.research.google.com/github/bremontix/bremontix/blob/main/ensayos/2024/Bootstrapping_Civilization.ipynb\" target=\"_parent\"><img src=\"https://colab.research.google.com/assets/colab-badge.svg\" alt=\"Open In Colab\"/></a>"
      ]
    },
    {
      "cell_type": "markdown",
      "metadata": {
        "id": "Vxl7QZAo1oiD"
      },
      "source": [
        "# Bootstrapping Civilization"
      ]
    },
    {
      "cell_type": "markdown",
      "metadata": {
        "id": "QTLjZe_D002n"
      },
      "source": [
        "## Fundamental Knowledge\n",
        "\n",
        "- Advanced Mathematics and Statistics\n",
        "- Physics\n",
        "- Chemistry\n",
        "- Materials and Materials Processing\n",
        "- Mechanics\n",
        "- Thermodynamics\n",
        "- Electronics\n",
        "- Measurement Theory\n",
        "- Control Theory\n",
        "- Informatics\n",
        "- Design and Development in Engineering\n",
        "- Manufacturing\n",
        "- Management\n",
        "- Standardization\n",
        "- Law\n",
        "- Patents"
      ]
    },
    {
      "cell_type": "markdown",
      "metadata": {
        "id": "gaT6Dvqq09_q"
      },
      "source": [
        "## References\n",
        "\n",
        "- [Bootstrapping the Industrial Age](https://kk.org/thetechnium/bootstrapping-t/)\n",
        "- .."
      ]
    }
  ],
  "metadata": {
    "colab": {
      "authorship_tag": "ABX9TyP+PB1j3dnt/jZT9q0gKThs",
      "include_colab_link": true,
      "provenance": []
    },
    "kernelspec": {
      "display_name": "Python 3",
      "name": "python3"
    },
    "language_info": {
      "name": "python"
    }
  },
  "nbformat": 4,
  "nbformat_minor": 0
}
